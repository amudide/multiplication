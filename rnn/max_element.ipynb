{
 "cells": [
  {
   "cell_type": "markdown",
   "id": "0e194bac",
   "metadata": {},
   "source": [
    "## Model"
   ]
  },
  {
   "cell_type": "code",
   "execution_count": 1,
   "id": "230f5001",
   "metadata": {},
   "outputs": [],
   "source": [
    "import math\n",
    "import numpy as np\n",
    "import pandas as pd\n",
    "import matplotlib.pyplot as plt\n",
    "import torch\n",
    "import torch.nn as nn\n",
    "from model import GeneralRNNConfig, GeneralRNN"
   ]
  },
  {
   "cell_type": "code",
   "execution_count": 2,
   "id": "00548f60",
   "metadata": {},
   "outputs": [],
   "source": [
    "device = torch.device(\"cuda:0\" if torch.cuda.is_available() else \"cpu\")"
   ]
  },
  {
   "cell_type": "code",
   "execution_count": 3,
   "id": "9dfa5278",
   "metadata": {},
   "outputs": [],
   "source": [
    "model_config = GeneralRNNConfig(\n",
    "        input_dim=1,\n",
    "        output_dim=1,\n",
    "        hidden_dim=1,\n",
    "        hidden_mlp_depth=2,\n",
    "        hidden_mlp_width=3,\n",
    "        output_mlp_depth=1,\n",
    "        output_mlp_width=1,\n",
    "        activation=nn.ReLU\n",
    "        )\n",
    "\n",
    "model = GeneralRNN(model_config, device=device)"
   ]
  },
  {
   "cell_type": "code",
   "execution_count": 4,
   "id": "f134a3b2",
   "metadata": {},
   "outputs": [
    {
     "data": {
      "text/plain": [
       "GeneralRNN(\n",
       "  (hmlp): MLP(\n",
       "    (mlp): Sequential(\n",
       "      (0): Linear(in_features=2, out_features=3, bias=True)\n",
       "      (1): ReLU()\n",
       "      (2): Linear(in_features=3, out_features=1, bias=True)\n",
       "    )\n",
       "  )\n",
       "  (ymlp): MLP(\n",
       "    (mlp): Sequential(\n",
       "      (0): Linear(in_features=1, out_features=1, bias=True)\n",
       "    )\n",
       "  )\n",
       ")"
      ]
     },
     "execution_count": 4,
     "metadata": {},
     "output_type": "execute_result"
    }
   ],
   "source": [
    "model"
   ]
  },
  {
   "cell_type": "code",
   "execution_count": 5,
   "id": "665fe605",
   "metadata": {},
   "outputs": [],
   "source": [
    "model.hmlp.mlp[0].weight.data = torch.tensor([[ 1., -1.],\n",
    "                                              [ 0.,  1.],\n",
    "                                              [ 0., -1.],])"
   ]
  },
  {
   "cell_type": "code",
   "execution_count": 6,
   "id": "50bb8ff4",
   "metadata": {},
   "outputs": [],
   "source": [
    "model.hmlp.mlp[0].bias.data = torch.tensor([0., 0., 0.])"
   ]
  },
  {
   "cell_type": "code",
   "execution_count": 7,
   "id": "07d02b3d",
   "metadata": {},
   "outputs": [],
   "source": [
    "model.hmlp.mlp[2].weight.data = torch.tensor([[ 1., 1., -1.]])"
   ]
  },
  {
   "cell_type": "code",
   "execution_count": 8,
   "id": "7d7357e0",
   "metadata": {},
   "outputs": [],
   "source": [
    "model.hmlp.mlp[2].bias.data = torch.tensor([0.])"
   ]
  },
  {
   "cell_type": "code",
   "execution_count": 9,
   "id": "2753d761",
   "metadata": {},
   "outputs": [],
   "source": [
    "model.ymlp.mlp[0].weight.data = torch.tensor([[ 1.]])"
   ]
  },
  {
   "cell_type": "code",
   "execution_count": 10,
   "id": "17def3cb",
   "metadata": {},
   "outputs": [],
   "source": [
    "model.ymlp.mlp[0].bias.data = torch.tensor([0.])"
   ]
  },
  {
   "cell_type": "markdown",
   "id": "1ca67357",
   "metadata": {},
   "source": [
    "## Find Maximum"
   ]
  },
  {
   "cell_type": "code",
   "execution_count": 11,
   "id": "84e16bec",
   "metadata": {},
   "outputs": [],
   "source": [
    "def maximum(nums):\n",
    "    nums = torch.tensor(nums)\n",
    "    nums = torch.unsqueeze(nums, 1)\n",
    "    nums = torch.unsqueeze(nums, 0)\n",
    "    \n",
    "    outs, hiddens = model.forward_sequence(nums)\n",
    "    print(\"Hiddens:\", list(h[0].tolist() for h in hiddens))\n",
    "    print(\"Answer:\", outs[0][-1][0].item())"
   ]
  },
  {
   "cell_type": "markdown",
   "id": "df699494",
   "metadata": {},
   "source": [
    "## Testing"
   ]
  },
  {
   "cell_type": "code",
   "execution_count": 12,
   "id": "74c43e72",
   "metadata": {},
   "outputs": [
    {
     "name": "stdout",
     "output_type": "stream",
     "text": [
      "Hiddens: [[0.0], [5.0]]\n",
      "Answer: 5.0\n"
     ]
    }
   ],
   "source": [
    "maximum([5])"
   ]
  },
  {
   "cell_type": "code",
   "execution_count": 13,
   "id": "526960ce",
   "metadata": {},
   "outputs": [
    {
     "name": "stdout",
     "output_type": "stream",
     "text": [
      "Hiddens: [[0.0], [3.0], [4.0], [5.0], [6.0], [6.0], [6.0], [6.0]]\n",
      "Answer: 6.0\n"
     ]
    }
   ],
   "source": [
    "maximum([3., 4., 5., 6., -1., 5., -10.])"
   ]
  },
  {
   "cell_type": "code",
   "execution_count": 14,
   "id": "8365fda0",
   "metadata": {},
   "outputs": [
    {
     "name": "stdout",
     "output_type": "stream",
     "text": [
      "Hiddens: [[0.0], [1.0], [2.0], [3.0], [4.0]]\n",
      "Answer: 4.0\n"
     ]
    }
   ],
   "source": [
    "maximum([1, 2, 3, 4])"
   ]
  },
  {
   "cell_type": "code",
   "execution_count": 15,
   "id": "a1625285",
   "metadata": {},
   "outputs": [
    {
     "name": "stdout",
     "output_type": "stream",
     "text": [
      "Hiddens: [[0.0], [2.0], [2.0], [2.0], [3.0], [4.0], [4.0]]\n",
      "Answer: 4.0\n"
     ]
    }
   ],
   "source": [
    "maximum([2, -1, 2, 3, 4, -5])"
   ]
  },
  {
   "cell_type": "code",
   "execution_count": 16,
   "id": "aca9870f",
   "metadata": {},
   "outputs": [
    {
     "name": "stdout",
     "output_type": "stream",
     "text": [
      "Hiddens: [[0.0], [5.0], [5.0], [5.0], [7.0], [8.0]]\n",
      "Answer: 8.0\n"
     ]
    }
   ],
   "source": [
    "maximum([5, 4, -1, 7, 8])"
   ]
  },
  {
   "cell_type": "code",
   "execution_count": 17,
   "id": "71aaca66",
   "metadata": {},
   "outputs": [
    {
     "name": "stdout",
     "output_type": "stream",
     "text": [
      "Hiddens: [[0.0], [0.0], [1.0], [1.0], [4.0], [4.0], [4.0], [4.0], [4.0], [4.0]]\n",
      "Answer: 4.0\n"
     ]
    }
   ],
   "source": [
    "maximum([-2, 1, -3, 4, -1, 2, 1, -5, 4])"
   ]
  },
  {
   "cell_type": "code",
   "execution_count": 18,
   "id": "f6e28187",
   "metadata": {},
   "outputs": [
    {
     "name": "stdout",
     "output_type": "stream",
     "text": [
      "Hiddens: [[0.0], [0.0], [0.0], [0.0], [0.0], [0.0], [0.0]]\n",
      "Answer: 0.0\n"
     ]
    }
   ],
   "source": [
    "maximum([-8, -3, -6, -2, -5, -4]) ## only works when not all numbers are negative"
   ]
  },
  {
   "cell_type": "code",
   "execution_count": 19,
   "id": "e5d7a6ef",
   "metadata": {},
   "outputs": [
    {
     "name": "stdout",
     "output_type": "stream",
     "text": [
      "Hiddens: [[0.0], [13.0], [13.0], [13.0], [20.0], [20.0], [20.0], [20.0], [20.0], [20.0], [20.0], [20.0], [20.0], [20.0], [20.0], [20.0], [20.0]]\n",
      "Answer: 20.0\n"
     ]
    }
   ],
   "source": [
    "maximum([13, -3, -25, 20, -3, -16, -23, 18, 20, -7, 12, -5, -22, 15, -4, 7])"
   ]
  },
  {
   "cell_type": "code",
   "execution_count": 20,
   "id": "b2ed9844",
   "metadata": {},
   "outputs": [
    {
     "name": "stdout",
     "output_type": "stream",
     "text": [
      "Hiddens: [[0.0], [0.0], [0.0], [0.0], [0.0], [0.0]]\n",
      "Answer: 0.0\n"
     ]
    }
   ],
   "source": [
    "maximum([0, -1, 0, -2, 0])"
   ]
  },
  {
   "cell_type": "code",
   "execution_count": 21,
   "id": "0a8b5213",
   "metadata": {},
   "outputs": [
    {
     "name": "stdout",
     "output_type": "stream",
     "text": [
      "Hiddens: [[0.0], [3.0], [3.0], [3.0], [3.0], [3.0]]\n",
      "Answer: 3.0\n"
     ]
    }
   ],
   "source": [
    "maximum([3, 2, 1, 0, -1])"
   ]
  },
  {
   "cell_type": "code",
   "execution_count": 22,
   "id": "5363ed47",
   "metadata": {},
   "outputs": [
    {
     "name": "stdout",
     "output_type": "stream",
     "text": [
      "Hiddens: [[0.0], [1.0], [1.0], [3.0], [3.0], [5.0], [5.0]]\n",
      "Answer: 5.0\n"
     ]
    }
   ],
   "source": [
    "maximum([1, -2, 3, -4, 5, -6])"
   ]
  }
 ],
 "metadata": {
  "kernelspec": {
   "display_name": "Python 3 (ipykernel)",
   "language": "python",
   "name": "python3"
  },
  "language_info": {
   "codemirror_mode": {
    "name": "ipython",
    "version": 3
   },
   "file_extension": ".py",
   "mimetype": "text/x-python",
   "name": "python",
   "nbconvert_exporter": "python",
   "pygments_lexer": "ipython3",
   "version": "3.11.1"
  }
 },
 "nbformat": 4,
 "nbformat_minor": 5
}
